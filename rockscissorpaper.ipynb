{
 "cells": [
  {
   "cell_type": "code",
   "execution_count": 1,
   "id": "1ad30e19",
   "metadata": {},
   "outputs": [
    {
     "name": "stdout",
     "output_type": "stream",
     "text": [
      "PIL 라이브러리 임포트 완료\n"
     ]
    }
   ],
   "source": [
    "from PIL import Image\n",
    "import glob\n",
    "import os\n",
    "\n",
    "print('PIL 라이브러리 임포트 완료')"
   ]
  },
  {
   "cell_type": "code",
   "execution_count": 3,
   "id": "e3119ca0",
   "metadata": {},
   "outputs": [
    {
     "name": "stdout",
     "output_type": "stream",
     "text": [
      "66 images to be resized\n",
      "66 images resized.\n",
      "가위 이미지 resize 완료\n"
     ]
    }
   ],
   "source": [
    "def resize_images(img_path):\n",
    "    images = glob.glob(img_path + '/*.jpg')\n",
    "    \n",
    "    print(len(images), 'images to be resized')\n",
    "    \n",
    "    target_size=(28,28)\n",
    "    for img in images:\n",
    "        old_img=Image.open(img)\n",
    "        new_img=old_img.resize(target_size,Image.ANTIALIAS)\n",
    "        new_img.save(img, 'JPEG')\n",
    "        \n",
    "    print(len(images), 'images resized.')\n",
    "    \n",
    "image_dir_path = os.getenv('HOME') + '/aiffel/rock_scissor_paper/scissor'\n",
    "resize_images(image_dir_path)\n",
    "\n",
    "print('가위 이미지 resize 완료')"
   ]
  },
  {
   "cell_type": "code",
   "execution_count": 12,
   "id": "fc2200b2",
   "metadata": {},
   "outputs": [
    {
     "name": "stdout",
     "output_type": "stream",
     "text": [
      "70 images to be resized\n",
      "70 images resized.\n"
     ]
    }
   ],
   "source": [
    "image_dir_path = os.getenv('HOME') + '/aiffel/rock_scissor_paper/rock'\n",
    "resize_images(image_dir_path)"
   ]
  },
  {
   "cell_type": "code",
   "execution_count": 13,
   "id": "bf56449c",
   "metadata": {},
   "outputs": [
    {
     "name": "stdout",
     "output_type": "stream",
     "text": [
      "70 images to be resized\n",
      "70 images resized.\n"
     ]
    }
   ],
   "source": [
    "image_dir_path = os.getenv('HOME') + '/aiffel/rock_scissor_paper/paper'\n",
    "resize_images(image_dir_path)"
   ]
  },
  {
   "cell_type": "code",
   "execution_count": 77,
   "id": "7f57934a",
   "metadata": {},
   "outputs": [
    {
     "name": "stdout",
     "output_type": "stream",
     "text": [
      "학습데이터의 이미지 개수는 2394 입니다.\n",
      "x_train shape (3000, 28, 28, 3)\n",
      "y_train shape (3000,)\n"
     ]
    }
   ],
   "source": [
    "import numpy as np\n",
    "\n",
    "def load_data(img_path, number_of_data=3000):\n",
    "    #가위0 바위1 보2\n",
    "    img_size=28\n",
    "    color=3\n",
    "    #이미지 데이터와 라벨데이터를 담을 행렬 영역을 생성합니다.\n",
    "    imgs=np.zeros(number_of_data*img_size*img_size*color,dtype=np.int32).reshape(number_of_data, img_size, img_size, color)\n",
    "    labels=np.zeros(number_of_data,dtype=np.int32)\n",
    "    \n",
    "    idx=0\n",
    "    for file in glob.iglob(img_path+'/scissor/*.*g'):\n",
    "        img = np.array(Image.open(file),dtype=np.int32)\n",
    "        imgs[idx,:,:,:]=img #데이터 영역에 이미지 행렬을 복사\n",
    "        labels[idx]=0\n",
    "        idx=idx+1\n",
    "        \n",
    "    for file in glob.iglob(img_path+'/rock/*.*g'):\n",
    "        img = np.array(Image.open(file),dtype=np.int32)\n",
    "        imgs[idx,:,:,:]=img #데이터 영역에 이미지 행렬을 복사\n",
    "        labels[idx]=1\n",
    "        idx=idx+1\n",
    "    \n",
    "    for file in glob.iglob(img_path+'/paper/*.*g'):\n",
    "        img = np.array(Image.open(file),dtype=np.int32)\n",
    "        imgs[idx,:,:,:]=img #데이터 영역에 이미지 행렬을 복사\n",
    "        labels[idx]=2\n",
    "        idx=idx+1\n",
    "    \n",
    "    print('학습데이터의 이미지 개수는', idx,'입니다.')\n",
    "    return imgs, labels\n",
    "\n",
    "image_dir_path = os.getenv('HOME') + '/aiffel/rock_scissor_paper'\n",
    "(x_train, y_train)=load_data(image_dir_path)\n",
    "x_train_norm = x_train/255.0 #입력은 0~1사이의 값으로 정규화\n",
    "\n",
    "print('x_train shape {}'.format(x_train.shape))\n",
    "print('y_train shape {}'.format(y_train.shape))\n",
    "\n",
    "        "
   ]
  },
  {
   "cell_type": "code",
   "execution_count": 23,
   "id": "a8d459e8",
   "metadata": {},
   "outputs": [
    {
     "name": "stdout",
     "output_type": "stream",
     "text": [
      "라벨: 0\n"
     ]
    },
    {
     "data": {
      "image/png": "[encoded data removed]",
      "text/plain": [
       "<Figure size 432x288 with 1 Axes>"
      ]
     },
     "metadata": {
      "needs_background": "light"
     },
     "output_type": "display_data"
    }
   ],
   "source": [
    "import matplotlib.pyplot as plt\n",
    "\n",
    "plt.imshow(x_train[0])\n",
    "print('라벨:', y_train[0])"
   ]
  },
  {
   "cell_type": "markdown",
   "id": "fcf98a2d",
   "metadata": {},
   "source": [
    "딥러닝 네트워크 설계하기"
   ]
  },
  {
   "cell_type": "code",
   "execution_count": 61,
   "id": "cfe76f82",
   "metadata": {},
   "outputs": [
    {
     "name": "stdout",
     "output_type": "stream",
     "text": [
      "Model: \"sequential_3\"\n",
      "_________________________________________________________________\n",
      "Layer (type)                 Output Shape              Param #   \n",
      "=================================================================\n",
      "conv2d_6 (Conv2D)            (None, 26, 26, 16)        448       \n",
      "_________________________________________________________________\n",
      "max_pooling2d_6 (MaxPooling2 (None, 13, 13, 16)        0         \n",
      "_________________________________________________________________\n",
      "conv2d_7 (Conv2D)            (None, 11, 11, 32)        4640      \n",
      "_________________________________________________________________\n",
      "max_pooling2d_7 (MaxPooling2 (None, 5, 5, 32)          0         \n",
      "_________________________________________________________________\n",
      "flatten_3 (Flatten)          (None, 800)               0         \n",
      "_________________________________________________________________\n",
      "dense_6 (Dense)              (None, 32)                25632     \n",
      "_________________________________________________________________\n",
      "dense_7 (Dense)              (None, 10)                330       \n",
      "=================================================================\n",
      "Total params: 31,050\n",
      "Trainable params: 31,050\n",
      "Non-trainable params: 0\n",
      "_________________________________________________________________\n"
     ]
    }
   ],
   "source": [
    "import tensorflow as tf\n",
    "from tensorflow import keras\n",
    "import numpy as np\n",
    "\n",
    "n_channel_1=16\n",
    "n_channel_2=32\n",
    "n_dense=32\n",
    "n_train_epoch=8\n",
    "\n",
    "model=keras.models.Sequential()\n",
    "\n",
    "model.add(keras.layers.Conv2D(n_channel_1, (3,3), activation='relu', input_shape=(28,28,3)))\n",
    "\n",
    "model.add(keras.layers.MaxPool2D(2,2))#풀링 층\n",
    "\n",
    "model.add(keras.layers.Conv2D(n_channel_2, (3,3), activation='relu'))\n",
    "\n",
    "model.add(keras.layers.MaxPooling2D((2,2)))\n",
    "\n",
    "model.add(keras.layers.Flatten())\n",
    "\n",
    "model.add(keras.layers.Dense(n_dense, activation='relu'))\n",
    "\n",
    "model.add(keras.layers.Dense(10, activation='softmax'))\n",
    "\n",
    "model.summary()"
   ]
  },
  {
   "cell_type": "code",
   "execution_count": 62,
   "id": "9aeb7a5d",
   "metadata": {
    "scrolled": true
   },
   "outputs": [
    {
     "name": "stdout",
     "output_type": "stream",
     "text": [
      "Epoch 1/8\n",
      "10/10 [==============================] - 1s 16ms/step - loss: 15.6736 - accuracy: 0.5700\n",
      "Epoch 2/8\n",
      "10/10 [==============================] - 0s 16ms/step - loss: 2.2469 - accuracy: 0.7533\n",
      "Epoch 3/8\n",
      "10/10 [==============================] - 0s 17ms/step - loss: 1.0170 - accuracy: 0.8700\n",
      "Epoch 4/8\n",
      "10/10 [==============================] - 0s 19ms/step - loss: 0.6787 - accuracy: 0.9767\n",
      "Epoch 5/8\n",
      "10/10 [==============================] - 0s 20ms/step - loss: 0.6060 - accuracy: 0.9900\n",
      "Epoch 6/8\n",
      "10/10 [==============================] - 0s 20ms/step - loss: 0.5105 - accuracy: 1.0000\n",
      "Epoch 7/8\n",
      "10/10 [==============================] - 0s 19ms/step - loss: 0.3938 - accuracy: 1.0000\n",
      "Epoch 8/8\n",
      "10/10 [==============================] - 0s 19ms/step - loss: 0.2527 - accuracy: 1.0000\n"
     ]
    },
    {
     "data": {
      "text/plain": [
       "<keras.callbacks.History at 0x7a632e029280>"
      ]
     },
     "execution_count": 62,
     "metadata": {},
     "output_type": "execute_result"
    }
   ],
   "source": [
    "model.compile(optimizer='adam',\n",
    "             loss='sparse_categorical_crossentropy',\n",
    "             metrics=['accuracy'])\n",
    "model.fit(x_train, y_train, epochs=n_train_epoch)"
   ]
  },
  {
   "cell_type": "markdown",
   "id": "6b29803b",
   "metadata": {},
   "source": [
    "테스트 데이터 불러오기(웹캠 없는사람용 3년전 데이터 가져옴)"
   ]
  },
  {
   "cell_type": "code",
   "execution_count": 32,
   "id": "482a5174",
   "metadata": {},
   "outputs": [
    {
     "name": "stdout",
     "output_type": "stream",
     "text": [
      "100 images to be resized\n",
      "100 images resized.\n",
      "100 images to be resized\n",
      "100 images resized.\n",
      "100 images to be resized\n",
      "100 images resized.\n"
     ]
    }
   ],
   "source": [
    "testrock_dir_path = os.getenv('HOME') + '/aiffel/rock_scissor_paper/test/test/rock'\n",
    "testscissor_dir_path = os.getenv('HOME') + '/aiffel/rock_scissor_paper/test/test/scissor'\n",
    "testpaper_dir_path = os.getenv('HOME') + '/aiffel/rock_scissor_paper/test/test/paper'\n",
    "\n",
    "resize_images(testrock_dir_path)\n",
    "resize_images(testscissor_dir_path)\n",
    "resize_images(testpaper_dir_path)"
   ]
  },
  {
   "cell_type": "code",
   "execution_count": 53,
   "id": "781acee4",
   "metadata": {},
   "outputs": [
    {
     "name": "stdout",
     "output_type": "stream",
     "text": [
      "학습데이터의 이미지 개수는 300 입니다.\n",
      "x_test shape: (300, 28, 28, 3)\n",
      "y_test shape: (300,)\n"
     ]
    }
   ],
   "source": [
    "testimg_dir_path = os.getenv('HOME') + '/aiffel/rock_scissor_paper/test/test'\n",
    "\n",
    "(x_test, y_test)=load_data(testimg_dir_path)\n",
    "\n",
    "x_test_norm = x_test/255.0\n",
    "print(\"x_test shape: {}\".format(x_test.shape))\n",
    "print(\"y_test shape: {}\".format(y_test.shape))"
   ]
  },
  {
   "cell_type": "markdown",
   "id": "44a2389c",
   "metadata": {},
   "source": [
    "test_accuracy 측정"
   ]
  },
  {
   "cell_type": "code",
   "execution_count": 65,
   "id": "e4e2d4be",
   "metadata": {},
   "outputs": [
    {
     "name": "stdout",
     "output_type": "stream",
     "text": [
      "10/10 - 0s - loss: 9.7616 - accuracy: 0.3333\n",
      "test_loss: 9.76156997680664\n",
      "test_accuracy: 0.3333333432674408\n"
     ]
    }
   ],
   "source": [
    "test_loss, test_accuracy = model.evaluate(x_test, y_test, verbose=2)\n",
    "print(f'test_loss: {test_loss}')\n",
    "print(f'test_accuracy: {test_accuracy}')"
   ]
  },
  {
   "cell_type": "markdown",
   "id": "2fdc9c18",
   "metadata": {},
   "source": [
    "# 모델 수정해보기"
   ]
  },
  {
   "cell_type": "code",
   "execution_count": 71,
   "id": "302ad12e",
   "metadata": {},
   "outputs": [
    {
     "name": "stdout",
     "output_type": "stream",
     "text": [
      "750 images to be resized\n",
      "750 images resized.\n",
      "가위 이미지 resize 완료\n",
      "726 images to be resized\n",
      "726 images resized.\n",
      "바위 이미지 resize 완료\n",
      "712 images to be resized\n",
      "712 images resized.\n",
      "보 이미지 resize 완료\n"
     ]
    }
   ],
   "source": [
    "#일단 학습데이터 늘려보기, 캐글에서 받은 png파일 변환하기\n",
    "def resize_pngimages(img_path):\n",
    "    images = glob.glob(img_path + '/*.png')\n",
    "    \n",
    "    print(len(images), 'images to be resized')\n",
    "    \n",
    "    target_size=(28,28)\n",
    "    for img in images:\n",
    "        old_img=Image.open(img)\n",
    "        new_img=old_img.resize(target_size,Image.ANTIALIAS)\n",
    "        new_img.save(img, 'JPEG')\n",
    "        \n",
    "    print(len(images), 'images resized.')\n",
    "    \n",
    "image_dir_path = os.getenv('HOME') + '/aiffel/rock_scissor_paper/scissor'\n",
    "resize_pngimages(image_dir_path)\n",
    "print('가위 이미지 resize 완료')\n",
    "\n",
    "image_dir_path = os.getenv('HOME') + '/aiffel/rock_scissor_paper/rock'\n",
    "resize_pngimages(image_dir_path)\n",
    "print('바위 이미지 resize 완료')\n",
    "\n",
    "image_dir_path = os.getenv('HOME') + '/aiffel/rock_scissor_paper/paper'\n",
    "resize_pngimages(image_dir_path)\n",
    "print('보 이미지 resize 완료')"
   ]
  },
  {
   "cell_type": "code",
   "execution_count": 78,
   "id": "21083d53",
   "metadata": {},
   "outputs": [
    {
     "name": "stdout",
     "output_type": "stream",
     "text": [
      "학습데이터의 이미지 개수는 2394 입니다.\n",
      "x_train shape (3000, 28, 28, 3)\n",
      "y_train shape (3000,)\n"
     ]
    }
   ],
   "source": [
    "image_dir_path = os.getenv('HOME') + '/aiffel/rock_scissor_paper'\n",
    "(x_train, y_train)=load_data(image_dir_path)\n",
    "x_train_norm = x_train/255.0\n",
    "\n",
    "print('x_train shape {}'.format(x_train.shape))\n",
    "print('y_train shape {}'.format(y_train.shape))"
   ]
  },
  {
   "cell_type": "code",
   "execution_count": 105,
   "id": "075c7200",
   "metadata": {},
   "outputs": [
    {
     "name": "stdout",
     "output_type": "stream",
     "text": [
      "Epoch 1/3\n",
      "94/94 [==============================] - 2s 19ms/step - loss: 0.0114 - accuracy: 0.9973\n",
      "Epoch 2/3\n",
      "94/94 [==============================] - 2s 19ms/step - loss: 0.0333 - accuracy: 0.9923\n",
      "Epoch 3/3\n",
      "94/94 [==============================] - 2s 19ms/step - loss: 0.0076 - accuracy: 0.9980\n"
     ]
    },
    {
     "data": {
      "text/plain": [
       "<keras.callbacks.History at 0x7a632c222a30>"
      ]
     },
     "execution_count": 105,
     "metadata": {},
     "output_type": "execute_result"
    }
   ],
   "source": [
    "n_channel_1=8\n",
    "n_channel_2=16\n",
    "n_dense=32\n",
    "n_train_epoch=3 #하이퍼파라미터 조정\n",
    "\n",
    "model.compile(optimizer='adam',\n",
    "             loss='sparse_categorical_crossentropy',\n",
    "             metrics=['accuracy'])\n",
    "model.fit(x_train, y_train, epochs=n_train_epoch)"
   ]
  },
  {
   "cell_type": "code",
   "execution_count": 108,
   "id": "f38722f4",
   "metadata": {},
   "outputs": [
    {
     "name": "stdout",
     "output_type": "stream",
     "text": [
      "학습데이터의 이미지 개수는 300 입니다.\n",
      "x_test shape: (3000, 28, 28, 3)\n",
      "y_test shape: (3000,)\n"
     ]
    }
   ],
   "source": [
    "testimg_dir_path = os.getenv('HOME') + '/aiffel/rock_scissor_paper/test/test'\n",
    "(x_test, y_test)=load_data(testimg_dir_path)\n",
    "x_test_norm = x_test/255.0\n",
    "print(\"x_test shape: {}\".format(x_test.shape))\n",
    "print(\"y_test shape: {}\".format(y_test.shape))"
   ]
  },
  {
   "cell_type": "code",
   "execution_count": 109,
   "id": "c0a4b988",
   "metadata": {},
   "outputs": [
    {
     "name": "stdout",
     "output_type": "stream",
     "text": [
      "94/94 - 1s - loss: 0.6097 - accuracy: 0.9390\n",
      "test_loss: 0.6097202301025391\n",
      "test_accuracy: 0.9390000104904175\n"
     ]
    }
   ],
   "source": [
    "test_loss, test_accuracy = model.evaluate(x_test, y_test, verbose=2)\n",
    "print(f'test_loss: {test_loss}')\n",
    "print(f'test_accuracy: {test_accuracy}')"
   ]
  },
  {
   "cell_type": "markdown",
   "id": "f55e3b26",
   "metadata": {},
   "source": [
    "그냥 좋은 데이터를 많이 넣으니까 성능이 좋아졌다."
   ]
  },
  {
   "cell_type": "code",
   "execution_count": null,
   "id": "195293f3",
   "metadata": {},
   "outputs": [],
   "source": []
  }
 ],
 "metadata": {
  "kernelspec": {
   "display_name": "Python 3 (ipykernel)",
   "language": "python",
   "name": "python3"
  },
  "language_info": {
   "codemirror_mode": {
    "name": "ipython",
    "version": 3
   },
   "file_extension": ".py",
   "mimetype": "text/x-python",
   "name": "python",
   "nbconvert_exporter": "python",
   "pygments_lexer": "ipython3",
   "version": "3.9.7"
  }
 },
 "nbformat": 4,
 "nbformat_minor": 5
}
